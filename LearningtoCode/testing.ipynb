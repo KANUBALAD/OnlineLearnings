{
 "cells": [
  {
   "cell_type": "code",
   "execution_count": 3,
   "metadata": {},
   "outputs": [
    {
     "name": "stdout",
     "output_type": "stream",
     "text": [
      "**********************************************************************\n",
      "File \"__main__\", line 4, in __main__.sum_items\n",
      "Failed example:\n",
      "    sum_items([1, 0, 1])\n",
      "Expected:\n",
      "    2\n",
      "Got:\n",
      "    1\n",
      "**********************************************************************\n",
      "File \"__main__\", line 12, in __main__.sum_items\n",
      "Failed example:\n",
      "    sum_items([1, 2])\n",
      "Expected:\n",
      "    3\n",
      "    Return the sum of the items in L.\n",
      "Got:\n",
      "    2\n",
      "**********************************************************************\n",
      "1 items had failures:\n",
      "   2 of   5 in __main__.sum_items\n",
      "***Test Failed*** 2 failures.\n"
     ]
    }
   ],
   "source": [
    "import doctest\n",
    "def sum_items(L):\n",
    "    \"\"\" (list of number) -> number\n",
    "    >>> sum_items([1, 0, 1])\n",
    "    2\n",
    "    >>> sum_items([1])\n",
    "    1\n",
    "    >>> sum_items([])\n",
    "    0\n",
    "    >>> sum_items([0, 0, 2])\n",
    "    2\n",
    "    >>> sum_items([1, 2])\n",
    "    3\n",
    "    Return the sum of the items in L.\n",
    "    \"\"\"\n",
    "   \n",
    "    total = 0\n",
    " \n",
    "    for item in L:\n",
    "        # print(f'print the  item is  {item} and total is {total}')\n",
    "        total = item\n",
    "        # print(f'print the new total is {total}')\n",
    "\n",
    "    return total\n",
    "        \n",
    "if __name__ == '__main__':\n",
    "    doctest.testmod()\n",
    "    "
   ]
  },
  {
   "cell_type": "code",
   "execution_count": 6,
   "metadata": {},
   "outputs": [],
   "source": [
    "def word_frequency(letter_to_words):\n",
    "    \"\"\" (dict of {str: list of str}) -> dict of {str: int}\n",
    "\n",
    "    Precondition: the length of each list in letter_to_words\n",
    "    is at least 1, each key in letter_to_words is a lowercase\n",
    "    letter, and each value is a list of lowercase words\n",
    "    beginning with that letter.\n",
    "\n",
    "    Return a dictionary where the keys are the letters from\n",
    "    letter_to_words, and the values are the number of words\n",
    "    beginning with that letter in letter_to_words.\n",
    "\n",
    "    >>> d = {'a': ['apple'], 'b': ['beet', 'banana'], \n",
    "       'c': ['carrot', 'cucumber']}\n",
    "    >>> expected = {'a': 1, 'b': 2, 'c': 2}\n",
    "    >>> word_frequency(d) == expected\n",
    "    True\n",
    "    \"\"\"\n",
    "    \n",
    "def test_word_frequency(self):\n",
    "    \"\"\" A dictionary with several items.\"\"\"\n",
    "    d = {'a': ['apple'], 'b': ['beet', 'banana'], 'c': ['carrot', 'cucumber']}\n",
    "\n",
    "    actual = words.word_frequency(d)\n",
    "\n",
    "    expected = {'a': 1, 'b': 2, 'c': 2}\n",
    "\n",
    "    self.assertEqual(actual, expected)"
   ]
  },
  {
   "cell_type": "code",
   "execution_count": 4,
   "metadata": {},
   "outputs": [
    {
     "ename": "NameError",
     "evalue": "name 'words' is not defined",
     "output_type": "error",
     "traceback": [
      "\u001b[0;31m---------------------------------------------------------------------------\u001b[0m",
      "\u001b[0;31mNameError\u001b[0m                                 Traceback (most recent call last)",
      "Cell \u001b[0;32mIn[4], line 4\u001b[0m\n\u001b[1;32m      1\u001b[0m \u001b[38;5;28;01mimport\u001b[39;00m \u001b[38;5;21;01munittest\u001b[39;00m\n\u001b[1;32m      2\u001b[0m d \u001b[38;5;241m=\u001b[39m {\u001b[38;5;124m'\u001b[39m\u001b[38;5;124ma\u001b[39m\u001b[38;5;124m'\u001b[39m: [\u001b[38;5;124m'\u001b[39m\u001b[38;5;124mapple\u001b[39m\u001b[38;5;124m'\u001b[39m], \u001b[38;5;124m'\u001b[39m\u001b[38;5;124mb\u001b[39m\u001b[38;5;124m'\u001b[39m: [\u001b[38;5;124m'\u001b[39m\u001b[38;5;124mbeet\u001b[39m\u001b[38;5;124m'\u001b[39m, \u001b[38;5;124m'\u001b[39m\u001b[38;5;124mbanana\u001b[39m\u001b[38;5;124m'\u001b[39m], \u001b[38;5;124m'\u001b[39m\u001b[38;5;124mc\u001b[39m\u001b[38;5;124m'\u001b[39m: [\u001b[38;5;124m'\u001b[39m\u001b[38;5;124mcarrot\u001b[39m\u001b[38;5;124m'\u001b[39m, \u001b[38;5;124m'\u001b[39m\u001b[38;5;124mcucumber\u001b[39m\u001b[38;5;124m'\u001b[39m]}\n\u001b[0;32m----> 4\u001b[0m words\u001b[38;5;241m.\u001b[39mword_frequency(d)\n\u001b[1;32m      6\u001b[0m expected \u001b[38;5;241m=\u001b[39m {\u001b[38;5;124m'\u001b[39m\u001b[38;5;124ma\u001b[39m\u001b[38;5;124m'\u001b[39m: \u001b[38;5;241m1\u001b[39m, \u001b[38;5;124m'\u001b[39m\u001b[38;5;124mb\u001b[39m\u001b[38;5;124m'\u001b[39m: \u001b[38;5;241m2\u001b[39m, \u001b[38;5;124m'\u001b[39m\u001b[38;5;124mc\u001b[39m\u001b[38;5;124m'\u001b[39m: \u001b[38;5;241m2\u001b[39m}\n\u001b[1;32m      7\u001b[0m unittest\u001b[38;5;241m.\u001b[39massertEqual(d, expected)\n",
      "\u001b[0;31mNameError\u001b[0m: name 'words' is not defined"
     ]
    }
   ],
   "source": []
  },
  {
   "cell_type": "markdown",
   "metadata": {},
   "source": [
    "### Insertion Algorithm"
   ]
  },
  {
   "cell_type": "code",
   "execution_count": 13,
   "metadata": {},
   "outputs": [
    {
     "name": "stdout",
     "output_type": "stream",
     "text": [
      "j is of value 0\n",
      "[2, 5, 6, 7, 8, 4, 4]\n"
     ]
    }
   ],
   "source": [
    "\n",
    "\n",
    "def insert(L, i):\n",
    "    value = L[i]\n",
    "\n",
    "    j = i\n",
    "    print(f\"j is of value {j}\")\n",
    "    while j != 0 and L[j - 1] > value:\n",
    "        L[j] = L[j - 1]\n",
    "        j = j - 1\n",
    "\n",
    "    L[j] = value\n",
    "    print(L)\n",
    "    \n",
    "L = [2, 5, 6, 7, 8, 4, 4]\n",
    "# print(insert(L, 5))\n",
    "insert(L, 0)"
   ]
  }
 ],
 "metadata": {
  "kernelspec": {
   "display_name": "Python (intersectionality)",
   "language": "python",
   "name": "intersectionality"
  },
  "language_info": {
   "codemirror_mode": {
    "name": "ipython",
    "version": 3
   },
   "file_extension": ".py",
   "mimetype": "text/x-python",
   "name": "python",
   "nbconvert_exporter": "python",
   "pygments_lexer": "ipython3",
   "version": "3.11.9"
  }
 },
 "nbformat": 4,
 "nbformat_minor": 2
}
