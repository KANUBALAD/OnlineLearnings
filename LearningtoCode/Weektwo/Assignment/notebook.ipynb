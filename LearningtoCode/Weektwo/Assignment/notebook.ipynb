{
 "cells": [
  {
   "cell_type": "code",
   "execution_count": 24,
   "metadata": {},
   "outputs": [
    {
     "name": "stdout",
     "output_type": "stream",
     "text": [
      "second_half of list [5, 6, 1, 2, 3, 4]\n"
     ]
    }
   ],
   "source": [
    "\n",
    "def swap_k(L, k):\n",
    "    \"\"\" (list, int) -> NoneType\n",
    "\n",
    "    Precondtion: 0 <= k <= len(L) // 2\n",
    "\n",
    "    Swap the first k items of L with the last k items of L.\n",
    "\n",
    "    >>> nums = [1, 2, 3, 4, 5, 6]\n",
    "    >>> swap_k(nums, 2)\n",
    "    >>> nums\n",
    "    [5, 6, 3, 4, 1, 2]\n",
    "    \"\"\"\n",
    "    list_len = len(nums)\n",
    "    remaining_list = list_len - k\n",
    "    second_half = nums[-k:] + nums[:remaining_list]\n",
    "    return second_half\n",
    "    \n",
    "    \n",
    "nums = [1, 2, 3, 4, 5, 6]  \n",
    "swap_k(nums, 2)"
   ]
  },
  {
   "cell_type": "code",
   "execution_count": 15,
   "metadata": {},
   "outputs": [
    {
     "name": "stdout",
     "output_type": "stream",
     "text": [
      "[5, 6, 3, 4, 1, 2]\n"
     ]
    }
   ],
   "source": [
    "k = 2\n",
    "L = [1, 2, 3, 4, 5, 6]  \n",
    "L[:k], L[-k:] = L[-k:], L[:k]\n",
    "print(L)\n",
    "\n"
   ]
  },
  {
   "cell_type": "code",
   "execution_count": 17,
   "metadata": {},
   "outputs": [
    {
     "name": "stdout",
     "output_type": "stream",
     "text": [
      "[]\n"
     ]
    }
   ],
   "source": []
  },
  {
   "cell_type": "code",
   "execution_count": 9,
   "metadata": {},
   "outputs": [
    {
     "ename": "SyntaxError",
     "evalue": "expression cannot contain assignment, perhaps you meant \"==\"? (2682323160.py, line 1)",
     "output_type": "error",
     "traceback": [
      "\u001b[0;36m  Cell \u001b[0;32mIn[9], line 1\u001b[0;36m\u001b[0m\n\u001b[0;31m    print(L[:k], L[-k:] = L[-k:], L[:k])\u001b[0m\n\u001b[0m                 ^\u001b[0m\n\u001b[0;31mSyntaxError\u001b[0m\u001b[0;31m:\u001b[0m expression cannot contain assignment, perhaps you meant \"==\"?\n"
     ]
    }
   ],
   "source": [
    "print(L[:k], L[-k:] = L[-k:], L[:k])\n"
   ]
  }
 ],
 "metadata": {
  "kernelspec": {
   "display_name": "Python (intersectionality)",
   "language": "python",
   "name": "intersectionality"
  },
  "language_info": {
   "codemirror_mode": {
    "name": "ipython",
    "version": 3
   },
   "file_extension": ".py",
   "mimetype": "text/x-python",
   "name": "python",
   "nbconvert_exporter": "python",
   "pygments_lexer": "ipython3",
   "version": "3.11.9"
  }
 },
 "nbformat": 4,
 "nbformat_minor": 2
}
